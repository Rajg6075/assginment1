{
 "cells": [
  {
   "cell_type": "code",
   "execution_count": 1,
   "id": "1b1b1c20-0298-4cf0-a5a4-053a97a93c89",
   "metadata": {},
   "outputs": [],
   "source": [
    "l=[1,2,3,4,5]"
   ]
  },
  {
   "cell_type": "code",
   "execution_count": 2,
   "id": "1c52fa9b-2497-4f87-9231-2c3f14719316",
   "metadata": {},
   "outputs": [
    {
     "data": {
      "text/plain": [
       "[1, 2, 3, 4, 5]"
      ]
     },
     "execution_count": 2,
     "metadata": {},
     "output_type": "execute_result"
    }
   ],
   "source": [
    "l"
   ]
  },
  {
   "cell_type": "code",
   "execution_count": 3,
   "id": "c1ea3989-ea86-417c-bae2-a74d01a78b91",
   "metadata": {},
   "outputs": [
    {
     "name": "stdout",
     "output_type": "stream",
     "text": [
      "1\n",
      "2\n",
      "3\n",
      "4\n",
      "5\n"
     ]
    }
   ],
   "source": [
    "for i in l:\n",
    "    print(i)"
   ]
  },
  {
   "cell_type": "code",
   "execution_count": 4,
   "id": "bc873561-8037-4609-bd31-c6e062d2b548",
   "metadata": {},
   "outputs": [
    {
     "name": "stdout",
     "output_type": "stream",
     "text": [
      "1 <class 'int'>\n",
      "2 <class 'int'>\n",
      "3 <class 'int'>\n",
      "4 <class 'int'>\n",
      "5 <class 'int'>\n"
     ]
    }
   ],
   "source": [
    "for i in l:\n",
    "    print(i , type(i))"
   ]
  },
  {
   "cell_type": "code",
   "execution_count": 5,
   "id": "3a3f230d-ceee-4af2-b6ed-02b8122031d5",
   "metadata": {},
   "outputs": [],
   "source": [
    "l1= [\"susdh\" , \"kumar\" , \"krish\" , \"naik\" ]"
   ]
  },
  {
   "cell_type": "code",
   "execution_count": 6,
   "id": "9be7d02f-8416-4fa2-bd72-1fc0210ee78a",
   "metadata": {},
   "outputs": [
    {
     "data": {
      "text/plain": [
       "['susdh', 'kumar', 'krish', 'naik']"
      ]
     },
     "execution_count": 6,
     "metadata": {},
     "output_type": "execute_result"
    }
   ],
   "source": [
    "l1"
   ]
  },
  {
   "cell_type": "code",
   "execution_count": 7,
   "id": "ead26076-444a-4be0-85a4-0a5a47ab2126",
   "metadata": {},
   "outputs": [
    {
     "name": "stdout",
     "output_type": "stream",
     "text": [
      "susdh\n",
      "kumar\n",
      "krish\n",
      "naik\n"
     ]
    }
   ],
   "source": [
    "for  i in l1:\n",
    "    print(i)"
   ]
  },
  {
   "cell_type": "code",
   "execution_count": 8,
   "id": "119a84f3-6e74-4dde-b3e4-bc160ca9a88d",
   "metadata": {},
   "outputs": [
    {
     "data": {
      "text/plain": [
       "['susdh', 'kumar', 'krish', 'naik']"
      ]
     },
     "execution_count": 8,
     "metadata": {},
     "output_type": "execute_result"
    }
   ],
   "source": [
    "l1"
   ]
  },
  {
   "cell_type": "code",
   "execution_count": 1,
   "id": "2e8a6d45-fe2c-4f1f-8f22-bd055d05e8a8",
   "metadata": {},
   "outputs": [],
   "source": [
    "l1= [\"susdh\" , \"kumar\" , \"krish\" , \"naik\" ]"
   ]
  },
  {
   "cell_type": "code",
   "execution_count": 2,
   "id": "a36e2379-3a74-4f1c-b060-ab48d6138981",
   "metadata": {},
   "outputs": [
    {
     "data": {
      "text/plain": [
       "['susdh', 'kumar', 'krish', 'naik']"
      ]
     },
     "execution_count": 2,
     "metadata": {},
     "output_type": "execute_result"
    }
   ],
   "source": [
    "l1"
   ]
  },
  {
   "cell_type": "code",
   "execution_count": 3,
   "id": "8da7d411-70ab-49a3-9d98-1ab7a60c17c2",
   "metadata": {},
   "outputs": [
    {
     "name": "stdout",
     "output_type": "stream",
     "text": [
      "susdh\n",
      "krish\n",
      "naik\n"
     ]
    }
   ],
   "source": [
    "for i in l1:\n",
    "    if i == \"kumar\":\n",
    "        continue\n",
    "    print(i)"
   ]
  },
  {
   "cell_type": "code",
   "execution_count": 4,
   "id": "726b8fb4-a8e3-4437-a0aa-2ed937f4a07a",
   "metadata": {},
   "outputs": [
    {
     "name": "stdout",
     "output_type": "stream",
     "text": [
      "susdh\n"
     ]
    }
   ],
   "source": [
    "for i in l1:\n",
    "    if i == \"kumar\":\n",
    "        break\n",
    "    print(i)\n",
    "else:\n",
    "    print(\"execute this if loop is able to complete itself\")"
   ]
  },
  {
   "cell_type": "code",
   "execution_count": 5,
   "id": "65788517-21d9-4363-8652-91c137ac1720",
   "metadata": {},
   "outputs": [
    {
     "name": "stdout",
     "output_type": "stream",
     "text": [
      "susdh\n",
      "kumar\n",
      "krish\n",
      "naik\n",
      "do somthing\n"
     ]
    }
   ],
   "source": [
    "for i in l1:\n",
    "    print(i)\n",
    "else:\n",
    "    print(\"do somthing\")"
   ]
  },
  {
   "cell_type": "code",
   "execution_count": 6,
   "id": "096f9c9f-b10b-4d0b-a723-3eb56bfbbe56",
   "metadata": {},
   "outputs": [
    {
     "data": {
      "text/plain": [
       "range(0, 5)"
      ]
     },
     "execution_count": 6,
     "metadata": {},
     "output_type": "execute_result"
    }
   ],
   "source": [
    "range(5)"
   ]
  },
  {
   "cell_type": "code",
   "execution_count": 8,
   "id": "c49797fe-55bf-434c-8d9c-e803348b6c05",
   "metadata": {},
   "outputs": [
    {
     "data": {
      "text/plain": [
       "[0, 1, 2, 3, 4]"
      ]
     },
     "execution_count": 8,
     "metadata": {},
     "output_type": "execute_result"
    }
   ],
   "source": [
    "list(range(5))"
   ]
  },
  {
   "cell_type": "code",
   "execution_count": 9,
   "id": "3193432e-fd09-46ba-aaf9-ea634d5dafe6",
   "metadata": {},
   "outputs": [
    {
     "data": {
      "text/plain": [
       "[0, 2, 4, 6, 8, 10, 12, 14, 16, 18]"
      ]
     },
     "execution_count": 9,
     "metadata": {},
     "output_type": "execute_result"
    }
   ],
   "source": [
    "list(range(0,20,2))"
   ]
  },
  {
   "cell_type": "code",
   "execution_count": 10,
   "id": "765157bc-58e0-452a-b012-04cc65487dc0",
   "metadata": {},
   "outputs": [
    {
     "data": {
      "text/plain": [
       "[-10, -9, -8, -7, -6, -5, -4, -3, -2, -1, 0, 1, 2, 3, 4]"
      ]
     },
     "execution_count": 10,
     "metadata": {},
     "output_type": "execute_result"
    }
   ],
   "source": [
    "list(range(-10,5,1))"
   ]
  },
  {
   "cell_type": "code",
   "execution_count": 2,
   "id": "4f258eaf-39dd-49e1-bf51-8d54d081bff3",
   "metadata": {},
   "outputs": [],
   "source": [
    "l1= [\"susdh\" , \"kumar\" , \"krish\" , \"naik\" ]"
   ]
  },
  {
   "cell_type": "code",
   "execution_count": 3,
   "id": "ef95b4d5-df14-4c09-8f95-cb88591b77c8",
   "metadata": {},
   "outputs": [
    {
     "data": {
      "text/plain": [
       "['susdh', 'kumar', 'krish', 'naik']"
      ]
     },
     "execution_count": 3,
     "metadata": {},
     "output_type": "execute_result"
    }
   ],
   "source": [
    "l1"
   ]
  },
  {
   "cell_type": "code",
   "execution_count": 4,
   "id": "df60bfd6-fe1d-4d95-bc40-341432b7ae96",
   "metadata": {},
   "outputs": [
    {
     "data": {
      "text/plain": [
       "4"
      ]
     },
     "execution_count": 4,
     "metadata": {},
     "output_type": "execute_result"
    }
   ],
   "source": [
    "len(l1)"
   ]
  },
  {
   "cell_type": "code",
   "execution_count": 5,
   "id": "fae46bbf-a893-41bb-b3e1-fc5d9de88e0c",
   "metadata": {},
   "outputs": [
    {
     "data": {
      "text/plain": [
       "range(0, 4)"
      ]
     },
     "execution_count": 5,
     "metadata": {},
     "output_type": "execute_result"
    }
   ],
   "source": [
    "range(len(l1))"
   ]
  },
  {
   "cell_type": "code",
   "execution_count": 6,
   "id": "de3354a2-420e-4021-9d4c-c3516a3bb0e6",
   "metadata": {},
   "outputs": [
    {
     "data": {
      "text/plain": [
       "[0, 1, 2, 3]"
      ]
     },
     "execution_count": 6,
     "metadata": {},
     "output_type": "execute_result"
    }
   ],
   "source": [
    "list(range(len(l1)))"
   ]
  },
  {
   "cell_type": "code",
   "execution_count": 7,
   "id": "86e21925-c94a-4546-a93a-263f90d9972d",
   "metadata": {},
   "outputs": [
    {
     "name": "stdout",
     "output_type": "stream",
     "text": [
      "susdh\n",
      "kumar\n",
      "krish\n",
      "naik\n"
     ]
    }
   ],
   "source": [
    "for i in range(len(l1)):\n",
    "    print(l1[i])"
   ]
  },
  {
   "cell_type": "code",
   "execution_count": 8,
   "id": "cbc4b54f-fc88-4806-a0ce-ec2d93c557d4",
   "metadata": {},
   "outputs": [
    {
     "data": {
      "text/plain": [
       "4"
      ]
     },
     "execution_count": 8,
     "metadata": {},
     "output_type": "execute_result"
    }
   ],
   "source": [
    "len(l1)"
   ]
  },
  {
   "cell_type": "code",
   "execution_count": 9,
   "id": "b84645fe-91a8-4d9f-b760-696b5bcd7fd2",
   "metadata": {},
   "outputs": [
    {
     "data": {
      "text/plain": [
       "[4, 3, 2, 1]"
      ]
     },
     "execution_count": 9,
     "metadata": {},
     "output_type": "execute_result"
    }
   ],
   "source": [
    "list(range(len(l1),0,-1))"
   ]
  },
  {
   "cell_type": "code",
   "execution_count": 10,
   "id": "2a7fdb55-515c-4356-b236-7ae44216223d",
   "metadata": {},
   "outputs": [
    {
     "data": {
      "text/plain": [
       "['susdh', 'kumar', 'krish', 'naik']"
      ]
     },
     "execution_count": 10,
     "metadata": {},
     "output_type": "execute_result"
    }
   ],
   "source": [
    "l1"
   ]
  },
  {
   "cell_type": "code",
   "execution_count": 11,
   "id": "18d30d7e-b2fe-4a84-a8ee-26ef50ff8c2d",
   "metadata": {},
   "outputs": [
    {
     "name": "stdout",
     "output_type": "stream",
     "text": [
      "naik\n",
      "krish\n",
      "kumar\n",
      "susdh\n"
     ]
    }
   ],
   "source": [
    "for i in range(len(l1)-1,-1,-1):\n",
    "    print(l1[i])"
   ]
  },
  {
   "cell_type": "code",
   "execution_count": 12,
   "id": "a1ad99cb-7b43-4da0-9265-4378efec09b7",
   "metadata": {},
   "outputs": [],
   "source": [
    "l2= [23,5,45,56,6,67,78,87,8998,9,9,8]"
   ]
  },
  {
   "cell_type": "code",
   "execution_count": 17,
   "id": "55884fba-b71e-4933-8fc4-c555558bfbb2",
   "metadata": {},
   "outputs": [
    {
     "data": {
      "text/plain": [
       "[0, 2, 4, 6, 8, 10]"
      ]
     },
     "execution_count": 17,
     "metadata": {},
     "output_type": "execute_result"
    }
   ],
   "source": [
    "list (range(0,len(l2), 2))"
   ]
  },
  {
   "cell_type": "code",
   "execution_count": 18,
   "id": "e63346ff-fdd7-4b94-a0ef-24f1b679720c",
   "metadata": {},
   "outputs": [
    {
     "name": "stdout",
     "output_type": "stream",
     "text": [
      "23\n",
      "45\n",
      "6\n",
      "78\n",
      "8998\n",
      "9\n"
     ]
    }
   ],
   "source": [
    "for i in range(0,len(l2),2):\n",
    "    print(l2[i])"
   ]
  },
  {
   "cell_type": "code",
   "execution_count": 19,
   "id": "b976549c-aa7a-4e9d-9d77-bc0f91f11cf8",
   "metadata": {},
   "outputs": [],
   "source": [
    "l=[1,2,3,4,7,8,98]\n"
   ]
  },
  {
   "cell_type": "code",
   "execution_count": 20,
   "id": "89d45835-e237-4d2a-b8c8-cd001d83d332",
   "metadata": {},
   "outputs": [
    {
     "data": {
      "text/plain": [
       "123"
      ]
     },
     "execution_count": 20,
     "metadata": {},
     "output_type": "execute_result"
    }
   ],
   "source": [
    "sum(l)"
   ]
  },
  {
   "cell_type": "code",
   "execution_count": 22,
   "id": "aa9a84ee-9fad-4f3f-997a-2ca67f9b99ad",
   "metadata": {},
   "outputs": [
    {
     "data": {
      "text/plain": [
       "123"
      ]
     },
     "execution_count": 22,
     "metadata": {},
     "output_type": "execute_result"
    }
   ],
   "source": [
    "result = 0\n",
    "for i in l :\n",
    "    result = result + i\n",
    "result"
   ]
  },
  {
   "cell_type": "code",
   "execution_count": 23,
   "id": "8984fc82-e3b4-4aca-96de-ea63abcade81",
   "metadata": {},
   "outputs": [],
   "source": [
    "t = {1,2,3,4,5}"
   ]
  },
  {
   "cell_type": "code",
   "execution_count": 24,
   "id": "63d5e7d3-ebab-4d99-b8a5-25768ff40218",
   "metadata": {},
   "outputs": [
    {
     "data": {
      "text/plain": [
       "{1, 2, 3, 4, 5}"
      ]
     },
     "execution_count": 24,
     "metadata": {},
     "output_type": "execute_result"
    }
   ],
   "source": [
    "t"
   ]
  },
  {
   "cell_type": "code",
   "execution_count": 25,
   "id": "6fa20e31-b3f9-4152-b008-cb51141cd809",
   "metadata": {},
   "outputs": [
    {
     "data": {
      "text/plain": [
       "15"
      ]
     },
     "execution_count": 25,
     "metadata": {},
     "output_type": "execute_result"
    }
   ],
   "source": [
    "sum(t)"
   ]
  },
  {
   "cell_type": "code",
   "execution_count": 26,
   "id": "f0331ae3-92cc-49e8-bc78-f7125c46fe8b",
   "metadata": {},
   "outputs": [],
   "source": [
    "s = {1,2,3,4,5,\"raj\", \"pwskills\"}"
   ]
  },
  {
   "cell_type": "code",
   "execution_count": 27,
   "id": "7a442682-1896-4b1e-88d3-5e4c9ae5f8c9",
   "metadata": {},
   "outputs": [
    {
     "name": "stdout",
     "output_type": "stream",
     "text": [
      "1\n",
      "2\n",
      "3\n",
      "4\n",
      "5\n",
      "raj\n",
      "pwskills\n"
     ]
    }
   ],
   "source": [
    "for i in s:\n",
    "    print(i)"
   ]
  },
  {
   "cell_type": "code",
   "execution_count": 28,
   "id": "da59d745-8634-485c-be51-90b5ea97df45",
   "metadata": {},
   "outputs": [],
   "source": [
    "s1=\"pwskills\""
   ]
  },
  {
   "cell_type": "code",
   "execution_count": 29,
   "id": "0d58eebc-8a5c-4158-a2b1-0a190c31a25f",
   "metadata": {},
   "outputs": [
    {
     "data": {
      "text/plain": [
       "'pwskills'"
      ]
     },
     "execution_count": 29,
     "metadata": {},
     "output_type": "execute_result"
    }
   ],
   "source": [
    "s1"
   ]
  },
  {
   "cell_type": "code",
   "execution_count": 31,
   "id": "26168480-0a9f-49d5-8803-a05e72d5880d",
   "metadata": {},
   "outputs": [
    {
     "name": "stdout",
     "output_type": "stream",
     "text": [
      "p\n",
      "w\n",
      "s\n",
      "k\n",
      "i\n",
      "l\n",
      "l\n",
      "s\n"
     ]
    }
   ],
   "source": [
    "for i in s1:\n",
    "    print(i)"
   ]
  },
  {
   "cell_type": "code",
   "execution_count": 38,
   "id": "f625fb81-adb2-4d9f-869e-7ed95b58fe59",
   "metadata": {},
   "outputs": [],
   "source": [
    "d={\"name\" : \"raj\" , \"class\": \"data science\",\n",
    "   \"topic\" : [ \"python\" , \"stats\" , \"ml\"]}"
   ]
  },
  {
   "cell_type": "code",
   "execution_count": 39,
   "id": "9c9254af-a375-4adf-b195-5104bf69fcc1",
   "metadata": {},
   "outputs": [
    {
     "data": {
      "text/plain": [
       "{'name': 'raj', 'class': 'data science', 'topic': ['python', 'stats', 'ml']}"
      ]
     },
     "execution_count": 39,
     "metadata": {},
     "output_type": "execute_result"
    }
   ],
   "source": [
    "d"
   ]
  },
  {
   "cell_type": "code",
   "execution_count": 42,
   "id": "89af1559-8bb4-4dc9-9610-0f21b107c651",
   "metadata": {},
   "outputs": [
    {
     "data": {
      "text/plain": [
       "'raj'"
      ]
     },
     "execution_count": 42,
     "metadata": {},
     "output_type": "execute_result"
    }
   ],
   "source": [
    "d['name']"
   ]
  },
  {
   "cell_type": "code",
   "execution_count": 43,
   "id": "d2b3fbea-75c6-40dc-9ede-f5821aaa85da",
   "metadata": {},
   "outputs": [
    {
     "data": {
      "text/plain": [
       "dict_keys(['name', 'class', 'topic'])"
      ]
     },
     "execution_count": 43,
     "metadata": {},
     "output_type": "execute_result"
    }
   ],
   "source": [
    "d.keys()"
   ]
  },
  {
   "cell_type": "code",
   "execution_count": 45,
   "id": "bd827055-cf0d-47d8-a781-2126b7b31432",
   "metadata": {},
   "outputs": [
    {
     "name": "stdout",
     "output_type": "stream",
     "text": [
      "raj\n",
      "data science\n",
      "['python', 'stats', 'ml']\n"
     ]
    }
   ],
   "source": [
    "for i in d.keys():\n",
    "    print(d[i])"
   ]
  },
  {
   "cell_type": "code",
   "execution_count": 46,
   "id": "8f35efbc-2e39-4218-8ce6-df7f88377649",
   "metadata": {},
   "outputs": [
    {
     "data": {
      "text/plain": [
       "dict_values(['raj', 'data science', ['python', 'stats', 'ml']])"
      ]
     },
     "execution_count": 46,
     "metadata": {},
     "output_type": "execute_result"
    }
   ],
   "source": [
    "d.values()"
   ]
  },
  {
   "cell_type": "code",
   "execution_count": 47,
   "id": "9e8b5621-a908-46dc-b424-ef3d4f8093a8",
   "metadata": {},
   "outputs": [
    {
     "data": {
      "text/plain": [
       "dict_keys(['name', 'class', 'topic'])"
      ]
     },
     "execution_count": 47,
     "metadata": {},
     "output_type": "execute_result"
    }
   ],
   "source": [
    "d.keys()"
   ]
  },
  {
   "cell_type": "code",
   "execution_count": 48,
   "id": "0c2f194b-d4a4-4268-8ed1-14a094620b6c",
   "metadata": {},
   "outputs": [
    {
     "data": {
      "text/plain": [
       "dict_values(['raj', 'data science', ['python', 'stats', 'ml']])"
      ]
     },
     "execution_count": 48,
     "metadata": {},
     "output_type": "execute_result"
    }
   ],
   "source": [
    "d.values()"
   ]
  },
  {
   "cell_type": "code",
   "execution_count": 49,
   "id": "1e5839cd-ab73-4e4c-8ef4-14872ab3fbe2",
   "metadata": {},
   "outputs": [
    {
     "data": {
      "text/plain": [
       "dict_items([('name', 'raj'), ('class', 'data science'), ('topic', ['python', 'stats', 'ml'])])"
      ]
     },
     "execution_count": 49,
     "metadata": {},
     "output_type": "execute_result"
    }
   ],
   "source": [
    "d.items()"
   ]
  },
  {
   "cell_type": "code",
   "execution_count": 50,
   "id": "4bcb2699-7c83-4dfc-8634-2359ed0750b3",
   "metadata": {},
   "outputs": [
    {
     "name": "stdout",
     "output_type": "stream",
     "text": [
      "('name', 'raj')\n",
      "('class', 'data science')\n",
      "('topic', ['python', 'stats', 'ml'])\n"
     ]
    }
   ],
   "source": [
    "for i in d.items():\n",
    "    print(i)"
   ]
  },
  {
   "cell_type": "code",
   "execution_count": null,
   "id": "a03d74c8-8ed3-4113-8077-f1d8f717f715",
   "metadata": {},
   "outputs": [],
   "source": []
  }
 ],
 "metadata": {
  "kernelspec": {
   "display_name": "Python 3 (ipykernel)",
   "language": "python",
   "name": "python3"
  },
  "language_info": {
   "codemirror_mode": {
    "name": "ipython",
    "version": 3
   },
   "file_extension": ".py",
   "mimetype": "text/x-python",
   "name": "python",
   "nbconvert_exporter": "python",
   "pygments_lexer": "ipython3",
   "version": "3.10.8"
  }
 },
 "nbformat": 4,
 "nbformat_minor": 5
}
